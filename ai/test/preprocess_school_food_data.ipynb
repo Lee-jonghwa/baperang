{
 "cells": [
  {
   "cell_type": "code",
   "execution_count": 2,
   "id": "197a24c7",
   "metadata": {},
   "outputs": [],
   "source": [
    "import pandas as pd\n",
    "import numpy as np"
   ]
  },
  {
   "cell_type": "code",
   "execution_count": 3,
   "id": "cd871d8b",
   "metadata": {},
   "outputs": [],
   "source": [
    "# 엑셀 파일 경로\n",
    "file_path = \"school_food_data.xlsx\""
   ]
  },
  {
   "cell_type": "code",
   "execution_count": 4,
   "id": "a9babc94",
   "metadata": {},
   "outputs": [],
   "source": [
    "df = pd.read_excel(file_path)"
   ]
  },
  {
   "cell_type": "code",
   "execution_count": 5,
   "id": "c934778d",
   "metadata": {},
   "outputs": [
    {
     "name": "stdout",
     "output_type": "stream",
     "text": [
      "  시도교육청코드    시도교육청명   행정표준코드     학교명  식사코드 식사명      급식일자  급식인원수  \\\n",
      "0     C10  부산광역시교육청  7150451  명호고등학교     2  중식  20220203  528.0   \n",
      "1     C10  부산광역시교육청  7150451  명호고등학교     2  중식  20220204  528.0   \n",
      "2     C10  부산광역시교육청  7150451  명호고등학교     2  중식  20220207  528.0   \n",
      "3     C10  부산광역시교육청  7150451  명호고등학교     2  중식  20220208  528.0   \n",
      "4     C10  부산광역시교육청  7150451  명호고등학교     2  중식  20220209  528.0   \n",
      "\n",
      "                                                 요리명  \\\n",
      "0  돈삼겹숙주덮밥1.2.5.6.10.12.13.18.<br/>실파계란국1.<br/>느타...   \n",
      "1  찹쌀밥<br/>들깨아욱된장국5.6.8.9.18.<br/>냉푸실리파스타1.5.6.12...   \n",
      "2  찹쌀밥<br/>사골떡국1.2.5.6.10.16.<br/>겨울초겉절이13.<br/>호...   \n",
      "3  돼지국밥2.5.6.9.10.13.16.<br/>부추겉절이5.6.13.<br/>오이고...   \n",
      "4  자장면1.5.6.10.13.16.<br/>애플모찌탕수육1.5.6.10.11.12.1...   \n",
      "\n",
      "                                               원산지정보       칼로리정보  \\\n",
      "0  쌀 : 국내산<br/>김치류 : 국내산<br/>고춧가루(김치류) : 국내산<br/>...  892.6 Kcal   \n",
      "1  쌀 : 국내산<br/>김치류 : 국내산<br/>고춧가루(김치류) : 국내산<br/>...  902.1 Kcal   \n",
      "2  쌀 : 국내산<br/>김치류 : 국내산<br/>고춧가루(김치류) : 국내산<br/>...  791.4 Kcal   \n",
      "3  쌀 : 국내산<br/>김치류 : 국내산<br/>고춧가루(김치류) : 국내산<br/>...  641.7 Kcal   \n",
      "4  쌀 : 국내산<br/>김치류 : 국내산<br/>고춧가루(김치류) : 국내산<br/>...  767.5 Kcal   \n",
      "\n",
      "                                                영양정보      수정일자  \n",
      "0  탄수화물(g) : 109.7<br/>단백질(g) : 35.7<br/>지방(g) : ...  20220210  \n",
      "1  탄수화물(g) : 130.2<br/>단백질(g) : 37.1<br/>지방(g) : ...  20220211  \n",
      "2  탄수화물(g) : 119.4<br/>단백질(g) : 36.2<br/>지방(g) : ...  20220214  \n",
      "3  탄수화물(g) : 110.3<br/>단백질(g) : 33.5<br/>지방(g) : ...  20220215  \n",
      "4  탄수화물(g) : 110.3<br/>단백질(g) : 27.2<br/>지방(g) : ...  20220216  \n"
     ]
    }
   ],
   "source": [
    "# 제목행 + 5개 데이터\n",
    "print(df.head())"
   ]
  },
  {
   "cell_type": "markdown",
   "id": "fadf68d9",
   "metadata": {},
   "source": [
    "# 정제 방향성\n",
    "\n",
    "### 1. column 정리\n",
    "- 필요한 column명만 추출 : 시도교육청명, 학교명, 식사명, 급식일자, 요리명, 칼로리정보, 영양정보\n",
    "- col 명 변경\n",
    "    - 시도교육청명 -> 시도명\n",
    "    - 요리명 -> 메뉴 이름\n",
    "    - 칼로리정보 -> 에너지\n",
    "    - 급식일자 -> 급식날짜\n",
    "\n",
    "### 2. 요리 명 분리\n",
    "- \"<br/>\" 기준으로 요리명 분리\n",
    "- 숫자 데이터 제거\n",
    "- 띄어쓰기 제거\n",
    "\n",
    "### 3. 영양정보 분리\n",
    "- 영양정보 자료 \"<br/>\" 기준으로 분리\n",
    "- \" : \" 기준 항목과 수치를 분리해 col 생성\n",
    "\n",
    "### 4. 다른 파일로 저장"
   ]
  },
  {
   "cell_type": "code",
   "execution_count": 6,
   "id": "524668d1",
   "metadata": {},
   "outputs": [
    {
     "name": "stdout",
     "output_type": "stream",
     "text": [
      "데이터의 기본 정보\n",
      "<class 'pandas.core.frame.DataFrame'>\n",
      "RangeIndex: 1045 entries, 0 to 1044\n",
      "Data columns (total 13 columns):\n",
      " #   Column   Non-Null Count  Dtype  \n",
      "---  ------   --------------  -----  \n",
      " 0   시도교육청코드  1045 non-null   object \n",
      " 1   시도교육청명   1045 non-null   object \n",
      " 2   행정표준코드   1045 non-null   int64  \n",
      " 3   학교명      1045 non-null   object \n",
      " 4   식사코드     1045 non-null   int64  \n",
      " 5   식사명      1045 non-null   object \n",
      " 6   급식일자     1045 non-null   int64  \n",
      " 7   급식인원수    1045 non-null   float64\n",
      " 8   요리명      1045 non-null   object \n",
      " 9   원산지정보    1045 non-null   object \n",
      " 10  칼로리정보    1045 non-null   object \n",
      " 11  영양정보     1045 non-null   object \n",
      " 12  수정일자     1045 non-null   int64  \n",
      "dtypes: float64(1), int64(4), object(8)\n",
      "memory usage: 106.3+ KB\n",
      "None\n",
      "데이터의 행과 열 개수\n",
      "(1045, 13)\n",
      "데이터의 통계적 요약\n",
      "          행정표준코드         식사코드          급식일자        급식인원수          수정일자\n",
      "count     1045.0  1045.000000  1.045000e+03  1045.000000  1.045000e+03\n",
      "mean   7150451.0     2.451675  2.023250e+07   569.411483  2.023262e+07\n",
      "std          0.0     0.497897  9.376663e+03   268.855391  9.411289e+03\n",
      "min    7150451.0     2.000000  2.022020e+07   128.000000  2.022021e+07\n",
      "25%    7150451.0     2.000000  2.022112e+07   300.000000  2.022113e+07\n",
      "50%    7150451.0     2.000000  2.023092e+07   762.000000  2.023102e+07\n",
      "75%    7150451.0     3.000000  2.024063e+07   829.000000  2.024070e+07\n",
      "max    7150451.0     3.000000  2.025043e+07   900.000000  2.025050e+07\n",
      "데이터의 열 이름\n",
      "Index(['시도교육청코드', '시도교육청명', '행정표준코드', '학교명', '식사코드', '식사명', '급식일자', '급식인원수',\n",
      "       '요리명', '원산지정보', '칼로리정보', '영양정보', '수정일자'],\n",
      "      dtype='object')\n",
      "데이터의 결측치 확인\n",
      "시도교육청코드    0\n",
      "시도교육청명     0\n",
      "행정표준코드     0\n",
      "학교명        0\n",
      "식사코드       0\n",
      "식사명        0\n",
      "급식일자       0\n",
      "급식인원수      0\n",
      "요리명        0\n",
      "원산지정보      0\n",
      "칼로리정보      0\n",
      "영양정보       0\n",
      "수정일자       0\n",
      "dtype: int64\n",
      "데이터의 중복 확인\n",
      "0\n",
      "데이터의 고유값 확인\n",
      "시도교육청코드       1\n",
      "시도교육청명        1\n",
      "행정표준코드        1\n",
      "학교명           1\n",
      "식사코드          2\n",
      "식사명           2\n",
      "급식일자        568\n",
      "급식인원수        43\n",
      "요리명        1028\n",
      "원산지정보        18\n",
      "칼로리정보       534\n",
      "영양정보       1036\n",
      "수정일자        488\n",
      "dtype: int64\n"
     ]
    }
   ],
   "source": [
    "# 기본 데이터 이해\n",
    "print(\"데이터의 기본 정보\")\n",
    "print(df.info())\n",
    "# 데이터의 행과 열 개수\n",
    "print(\"데이터의 행과 열 개수\")\n",
    "print(df.shape)\n",
    "# 데이터의 통계적 요약\n",
    "print(\"데이터의 통계적 요약\")\n",
    "print(df.describe())\n",
    "# 데이터의 열 이름\n",
    "print(\"데이터의 열 이름\")\n",
    "print(df.columns)\n",
    "# 데이터의 결측치 확인\n",
    "print(\"데이터의 결측치 확인\")\n",
    "print(df.isnull().sum())\n",
    "# 데이터의 중복 확인\n",
    "print(\"데이터의 중복 확인\")\n",
    "print(df.duplicated().sum())\n",
    "# 데이터의 고유값 확인\n",
    "print(\"데이터의 고유값 확인\")\n",
    "print(df.nunique())\n"
   ]
  },
  {
   "cell_type": "markdown",
   "id": "8876602a",
   "metadata": {},
   "source": [
    "# 1. column 정리\n",
    "### 1. 필요한 column명만 추출 : 시도교육청명, 학교명, 식사명, 급식일자, 요리명, 칼로리정보, 영양정보"
   ]
  },
  {
   "cell_type": "code",
   "execution_count": null,
   "id": "5959ab87",
   "metadata": {},
   "outputs": [],
   "source": [
    "# 필요한 column 정의\n",
    "need_col = [\"시도교육청명\", \"학교명\", \"식사명\", \"급식일자\", \"요리명\", \"칼로리정보\", \"영양정보\"]\n",
    "df = df[]"
   ]
  },
  {
   "cell_type": "markdown",
   "id": "0816fb34",
   "metadata": {},
   "source": [
    "### 2. col 명 변경\n",
    "- 시도교육청명 -> 시도명\n",
    "- 요리명 -> 메뉴 이름\n",
    "- 칼로리정보 -> 에너지\n",
    "- 급식일자 -> 급식날짜"
   ]
  },
  {
   "cell_type": "code",
   "execution_count": null,
   "id": "72720ae0",
   "metadata": {},
   "outputs": [],
   "source": [
    "#"
   ]
  },
  {
   "cell_type": "markdown",
   "id": "ad42cf42",
   "metadata": {},
   "source": [
    "# 2. 요리 명 분리\n",
    "### 1. \"<br/>\" 기준으로 요리명 분리"
   ]
  },
  {
   "cell_type": "markdown",
   "id": "61959562",
   "metadata": {},
   "source": [
    "### 2. 숫자 데이터 제거"
   ]
  },
  {
   "cell_type": "markdown",
   "id": "a574cd69",
   "metadata": {},
   "source": [
    "### 3. 띄어쓰기 제거"
   ]
  },
  {
   "cell_type": "markdown",
   "id": "a8f9317c",
   "metadata": {},
   "source": [
    "# 3. 영양정보 분리\n",
    "### 1. 영양정보 자료 \"<br/>\" 기준으로 분리"
   ]
  },
  {
   "cell_type": "markdown",
   "id": "4545540f",
   "metadata": {},
   "source": [
    "### 2. \" : \" 기준 항목과 수치를 분리해 col 생성"
   ]
  },
  {
   "cell_type": "markdown",
   "id": "ac741a5f",
   "metadata": {},
   "source": [
    "# 4. 다른 파일로 저장"
   ]
  }
 ],
 "metadata": {
  "kernelspec": {
   "display_name": "Python 3",
   "language": "python",
   "name": "python3"
  },
  "language_info": {
   "codemirror_mode": {
    "name": "ipython",
    "version": 3
   },
   "file_extension": ".py",
   "mimetype": "text/x-python",
   "name": "python",
   "nbconvert_exporter": "python",
   "pygments_lexer": "ipython3",
   "version": "3.10.11"
  }
 },
 "nbformat": 4,
 "nbformat_minor": 5
}
