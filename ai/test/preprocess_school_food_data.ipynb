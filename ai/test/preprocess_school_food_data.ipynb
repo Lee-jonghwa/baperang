{
 "cells": [
  {
   "cell_type": "code",
   "execution_count": 2,
   "id": "197a24c7",
   "metadata": {},
   "outputs": [],
   "source": [
    "import pandas as pd\n",
    "import numpy as np"
   ]
  },
  {
   "cell_type": "code",
   "execution_count": 3,
   "id": "cd871d8b",
   "metadata": {},
   "outputs": [],
   "source": [
    "# 엑셀 파일 경로\n",
    "file_path = \"school_food_data.xlsx\""
   ]
  },
  {
   "cell_type": "code",
   "execution_count": 4,
   "id": "a9babc94",
   "metadata": {},
   "outputs": [],
   "source": [
    "df = pd.read_excel(file_path)"
   ]
  },
  {
   "cell_type": "code",
   "execution_count": 5,
   "id": "c934778d",
   "metadata": {},
   "outputs": [
    {
     "name": "stdout",
     "output_type": "stream",
     "text": [
      "  시도교육청코드    시도교육청명   행정표준코드     학교명  식사코드 식사명      급식일자  급식인원수  \\\n",
      "0     C10  부산광역시교육청  7150451  명호고등학교     2  중식  20220203  528.0   \n",
      "1     C10  부산광역시교육청  7150451  명호고등학교     2  중식  20220204  528.0   \n",
      "2     C10  부산광역시교육청  7150451  명호고등학교     2  중식  20220207  528.0   \n",
      "3     C10  부산광역시교육청  7150451  명호고등학교     2  중식  20220208  528.0   \n",
      "4     C10  부산광역시교육청  7150451  명호고등학교     2  중식  20220209  528.0   \n",
      "\n",
      "                                                 요리명  \\\n",
      "0  돈삼겹숙주덮밥1.2.5.6.10.12.13.18.<br/>실파계란국1.<br/>느타...   \n",
      "1  찹쌀밥<br/>들깨아욱된장국5.6.8.9.18.<br/>냉푸실리파스타1.5.6.12...   \n",
      "2  찹쌀밥<br/>사골떡국1.2.5.6.10.16.<br/>겨울초겉절이13.<br/>호...   \n",
      "3  돼지국밥2.5.6.9.10.13.16.<br/>부추겉절이5.6.13.<br/>오이고...   \n",
      "4  자장면1.5.6.10.13.16.<br/>애플모찌탕수육1.5.6.10.11.12.1...   \n",
      "\n",
      "                                               원산지정보       칼로리정보  \\\n",
      "0  쌀 : 국내산<br/>김치류 : 국내산<br/>고춧가루(김치류) : 국내산<br/>...  892.6 Kcal   \n",
      "1  쌀 : 국내산<br/>김치류 : 국내산<br/>고춧가루(김치류) : 국내산<br/>...  902.1 Kcal   \n",
      "2  쌀 : 국내산<br/>김치류 : 국내산<br/>고춧가루(김치류) : 국내산<br/>...  791.4 Kcal   \n",
      "3  쌀 : 국내산<br/>김치류 : 국내산<br/>고춧가루(김치류) : 국내산<br/>...  641.7 Kcal   \n",
      "4  쌀 : 국내산<br/>김치류 : 국내산<br/>고춧가루(김치류) : 국내산<br/>...  767.5 Kcal   \n",
      "\n",
      "                                                영양정보      수정일자  \n",
      "0  탄수화물(g) : 109.7<br/>단백질(g) : 35.7<br/>지방(g) : ...  20220210  \n",
      "1  탄수화물(g) : 130.2<br/>단백질(g) : 37.1<br/>지방(g) : ...  20220211  \n",
      "2  탄수화물(g) : 119.4<br/>단백질(g) : 36.2<br/>지방(g) : ...  20220214  \n",
      "3  탄수화물(g) : 110.3<br/>단백질(g) : 33.5<br/>지방(g) : ...  20220215  \n",
      "4  탄수화물(g) : 110.3<br/>단백질(g) : 27.2<br/>지방(g) : ...  20220216  \n"
     ]
    }
   ],
   "source": [
    "# 제목행 + 5개 데이터\n",
    "print(df.head())"
   ]
  },
  {
   "cell_type": "markdown",
   "id": "fadf68d9",
   "metadata": {},
   "source": [
    "# 정제 방향성\n",
    "\n",
    "### 1. column 정리\n",
    "- 필요한 column명만 추출 : 시도교육청명, 학교명, 식사명, 급식일자, 요리명, 칼로리정보, 영양정보\n",
    "- col 명 변경\n",
    "    - 시도교육청명 -> 시도명\n",
    "    - 요리명 -> 메뉴 이름\n",
    "    - 칼로리정보 -> 에너지\n",
    "    - 급식일자 -> 급식날짜\n",
    "\n",
    "### 2. 요리 명 분리\n",
    "- \"<br/>\" 기준으로 요리명 분리\n",
    "- 숫자 데이터 제거\n",
    "- 띄어쓰기 제거\n",
    "\n",
    "### 3. 영양정보 분리\n",
    "- 영양정보 자료 \"<br/>\" 기준으로 분리\n",
    "- \" : \" 기준 항목과 수치를 분리해 col 생성\n",
    "\n",
    "### 4. 다른 파일로 저장"
   ]
  },
  {
   "cell_type": "code",
   "execution_count": 6,
   "id": "524668d1",
   "metadata": {},
   "outputs": [
    {
     "name": "stdout",
     "output_type": "stream",
     "text": [
      "데이터의 기본 정보\n",
      "<class 'pandas.core.frame.DataFrame'>\n",
      "RangeIndex: 1045 entries, 0 to 1044\n",
      "Data columns (total 13 columns):\n",
      " #   Column   Non-Null Count  Dtype  \n",
      "---  ------   --------------  -----  \n",
      " 0   시도교육청코드  1045 non-null   object \n",
      " 1   시도교육청명   1045 non-null   object \n",
      " 2   행정표준코드   1045 non-null   int64  \n",
      " 3   학교명      1045 non-null   object \n",
      " 4   식사코드     1045 non-null   int64  \n",
      " 5   식사명      1045 non-null   object \n",
      " 6   급식일자     1045 non-null   int64  \n",
      " 7   급식인원수    1045 non-null   float64\n",
      " 8   요리명      1045 non-null   object \n",
      " 9   원산지정보    1045 non-null   object \n",
      " 10  칼로리정보    1045 non-null   object \n",
      " 11  영양정보     1045 non-null   object \n",
      " 12  수정일자     1045 non-null   int64  \n",
      "dtypes: float64(1), int64(4), object(8)\n",
      "memory usage: 106.3+ KB\n",
      "None\n",
      "데이터의 행과 열 개수\n",
      "(1045, 13)\n",
      "데이터의 통계적 요약\n",
      "          행정표준코드         식사코드          급식일자        급식인원수          수정일자\n",
      "count     1045.0  1045.000000  1.045000e+03  1045.000000  1.045000e+03\n",
      "mean   7150451.0     2.451675  2.023250e+07   569.411483  2.023262e+07\n",
      "std          0.0     0.497897  9.376663e+03   268.855391  9.411289e+03\n",
      "min    7150451.0     2.000000  2.022020e+07   128.000000  2.022021e+07\n",
      "25%    7150451.0     2.000000  2.022112e+07   300.000000  2.022113e+07\n",
      "50%    7150451.0     2.000000  2.023092e+07   762.000000  2.023102e+07\n",
      "75%    7150451.0     3.000000  2.024063e+07   829.000000  2.024070e+07\n",
      "max    7150451.0     3.000000  2.025043e+07   900.000000  2.025050e+07\n",
      "데이터의 열 이름\n",
      "Index(['시도교육청코드', '시도교육청명', '행정표준코드', '학교명', '식사코드', '식사명', '급식일자', '급식인원수',\n",
      "       '요리명', '원산지정보', '칼로리정보', '영양정보', '수정일자'],\n",
      "      dtype='object')\n",
      "데이터의 결측치 확인\n",
      "시도교육청코드    0\n",
      "시도교육청명     0\n",
      "행정표준코드     0\n",
      "학교명        0\n",
      "식사코드       0\n",
      "식사명        0\n",
      "급식일자       0\n",
      "급식인원수      0\n",
      "요리명        0\n",
      "원산지정보      0\n",
      "칼로리정보      0\n",
      "영양정보       0\n",
      "수정일자       0\n",
      "dtype: int64\n",
      "데이터의 중복 확인\n",
      "0\n",
      "데이터의 고유값 확인\n",
      "시도교육청코드       1\n",
      "시도교육청명        1\n",
      "행정표준코드        1\n",
      "학교명           1\n",
      "식사코드          2\n",
      "식사명           2\n",
      "급식일자        568\n",
      "급식인원수        43\n",
      "요리명        1028\n",
      "원산지정보        18\n",
      "칼로리정보       534\n",
      "영양정보       1036\n",
      "수정일자        488\n",
      "dtype: int64\n"
     ]
    }
   ],
   "source": [
    "# 기본 데이터 이해\n",
    "print(\"데이터의 기본 정보\")\n",
    "print(df.info())\n",
    "# 데이터의 행과 열 개수\n",
    "print(\"데이터의 행과 열 개수\")\n",
    "print(df.shape)\n",
    "# 데이터의 통계적 요약\n",
    "print(\"데이터의 통계적 요약\")\n",
    "print(df.describe())\n",
    "# 데이터의 열 이름\n",
    "print(\"데이터의 열 이름\")\n",
    "print(df.columns)\n",
    "# 데이터의 결측치 확인\n",
    "print(\"데이터의 결측치 확인\")\n",
    "print(df.isnull().sum())\n",
    "# 데이터의 중복 확인\n",
    "print(\"데이터의 중복 확인\")\n",
    "print(df.duplicated().sum())\n",
    "# 데이터의 고유값 확인\n",
    "print(\"데이터의 고유값 확인\")\n",
    "print(df.nunique())\n"
   ]
  },
  {
   "cell_type": "markdown",
   "id": "8876602a",
   "metadata": {},
   "source": [
    "# 1. column 정리\n",
    "### 1. 필요한 column명만 추출 : 시도교육청명, 학교명, 식사명, 급식일자, 요리명, 칼로리정보, 영양정보"
   ]
  },
  {
   "cell_type": "code",
   "execution_count": 7,
   "id": "5959ab87",
   "metadata": {},
   "outputs": [
    {
     "name": "stdout",
     "output_type": "stream",
     "text": [
      "Index(['시도교육청명', '학교명', '식사명', '급식일자', '요리명', '칼로리정보', '영양정보'], dtype='object')\n",
      "     시도교육청명     학교명 식사명      급식일자  \\\n",
      "0  부산광역시교육청  명호고등학교  중식  20220203   \n",
      "1  부산광역시교육청  명호고등학교  중식  20220204   \n",
      "2  부산광역시교육청  명호고등학교  중식  20220207   \n",
      "3  부산광역시교육청  명호고등학교  중식  20220208   \n",
      "4  부산광역시교육청  명호고등학교  중식  20220209   \n",
      "\n",
      "                                                 요리명       칼로리정보  \\\n",
      "0  돈삼겹숙주덮밥1.2.5.6.10.12.13.18.<br/>실파계란국1.<br/>느타...  892.6 Kcal   \n",
      "1  찹쌀밥<br/>들깨아욱된장국5.6.8.9.18.<br/>냉푸실리파스타1.5.6.12...  902.1 Kcal   \n",
      "2  찹쌀밥<br/>사골떡국1.2.5.6.10.16.<br/>겨울초겉절이13.<br/>호...  791.4 Kcal   \n",
      "3  돼지국밥2.5.6.9.10.13.16.<br/>부추겉절이5.6.13.<br/>오이고...  641.7 Kcal   \n",
      "4  자장면1.5.6.10.13.16.<br/>애플모찌탕수육1.5.6.10.11.12.1...  767.5 Kcal   \n",
      "\n",
      "                                                영양정보  \n",
      "0  탄수화물(g) : 109.7<br/>단백질(g) : 35.7<br/>지방(g) : ...  \n",
      "1  탄수화물(g) : 130.2<br/>단백질(g) : 37.1<br/>지방(g) : ...  \n",
      "2  탄수화물(g) : 119.4<br/>단백질(g) : 36.2<br/>지방(g) : ...  \n",
      "3  탄수화물(g) : 110.3<br/>단백질(g) : 33.5<br/>지방(g) : ...  \n",
      "4  탄수화물(g) : 110.3<br/>단백질(g) : 27.2<br/>지방(g) : ...  \n"
     ]
    }
   ],
   "source": [
    "# 필요한 column 정의\n",
    "need_col = [\"시도교육청명\", \"학교명\", \"식사명\", \"급식일자\", \"요리명\", \"칼로리정보\", \"영양정보\"]\n",
    "# 필요한 것만 추출\n",
    "df = df[need_col]\n",
    "print(df.columns)\n",
    "print(df.head())"
   ]
  },
  {
   "cell_type": "markdown",
   "id": "0816fb34",
   "metadata": {},
   "source": [
    "### 2. col 명 변경\n",
    "- 시도교육청명 -> 시도명\n",
    "- 요리명 -> 메뉴이름\n",
    "- 칼로리정보 -> 에너지\n",
    "- 급식일자 -> 급식날짜"
   ]
  },
  {
   "cell_type": "code",
   "execution_count": 8,
   "id": "72720ae0",
   "metadata": {},
   "outputs": [],
   "source": [
    "# col 명 변경\n",
    "df = df.rename(columns={\n",
    "  \"시도교육청명\" : \"시도명\",\n",
    "  \"요리명\" : \"메뉴이름\",\n",
    "  \"칼로리정보\" : \"에너지\",\n",
    "  \"급식일자\" : \"급식날짜\",\n",
    "})"
   ]
  },
  {
   "cell_type": "code",
   "execution_count": 9,
   "id": "b043c1b4",
   "metadata": {},
   "outputs": [
    {
     "name": "stdout",
     "output_type": "stream",
     "text": [
      "Index(['시도명', '학교명', '식사명', '급식날짜', '메뉴이름', '에너지', '영양정보'], dtype='object')\n"
     ]
    }
   ],
   "source": [
    "print(df.columns)"
   ]
  },
  {
   "cell_type": "markdown",
   "id": "3e2f3b1e",
   "metadata": {},
   "source": [
    "### 3. 중식만 조회"
   ]
  },
  {
   "cell_type": "code",
   "execution_count": 10,
   "id": "1b2bc79e",
   "metadata": {},
   "outputs": [],
   "source": [
    "df = df[df[\"식사명\"]==\"중식\"].copy()"
   ]
  },
  {
   "cell_type": "code",
   "execution_count": 11,
   "id": "b681ac95",
   "metadata": {},
   "outputs": [
    {
     "name": "stdout",
     "output_type": "stream",
     "text": [
      "['중식']\n"
     ]
    }
   ],
   "source": [
    "print(df[\"식사명\"].unique())"
   ]
  },
  {
   "cell_type": "code",
   "execution_count": 12,
   "id": "13cbb3e7",
   "metadata": {},
   "outputs": [],
   "source": [
    "# 이제 식사 구분 필요 없음\n",
    "df.drop(columns=[\"식사명\"], inplace=True)"
   ]
  },
  {
   "cell_type": "code",
   "execution_count": 13,
   "id": "fa629fa6",
   "metadata": {},
   "outputs": [
    {
     "name": "stdout",
     "output_type": "stream",
     "text": [
      "Index(['시도명', '학교명', '급식날짜', '메뉴이름', '에너지', '영양정보'], dtype='object')\n"
     ]
    }
   ],
   "source": [
    "print(df.columns)"
   ]
  },
  {
   "cell_type": "markdown",
   "id": "ad42cf42",
   "metadata": {},
   "source": [
    "# 2. 요리 명 분리\n",
    "### 1. `<br/>` 기준으로 요리명 분리"
   ]
  },
  {
   "cell_type": "code",
   "execution_count": 14,
   "id": "c7135948",
   "metadata": {},
   "outputs": [
    {
     "name": "stdout",
     "output_type": "stream",
     "text": [
      "10\n"
     ]
    }
   ],
   "source": [
    "# 메뉴 문자열을 <br/> 기준으로 분할\n",
    "menu_split = df[\"메뉴이름\"].fillna(\"\").apply(lambda x: x.split(\"<br/>\"))\n",
    "\n",
    "# 가장 긴 메뉴 개수 확인\n",
    "max_menu_count = menu_split.apply(len).max()\n",
    "\n",
    "print(max_menu_count)"
   ]
  },
  {
   "cell_type": "code",
   "execution_count": 15,
   "id": "f464f350",
   "metadata": {},
   "outputs": [
    {
     "name": "stdout",
     "output_type": "stream",
     "text": [
      "10\n"
     ]
    }
   ],
   "source": [
    "df[\"메뉴개수\"] = df[\"메뉴이름\"].fillna(\"\").apply(lambda x: len(x.split(\"<br/>\")))\n",
    "print(df[\"메뉴개수\"].max())"
   ]
  },
  {
   "cell_type": "code",
   "execution_count": 16,
   "id": "8213b536",
   "metadata": {},
   "outputs": [
    {
     "name": "stdout",
     "output_type": "stream",
     "text": [
      "['녹두밥1 <br/>건새우콩나물국 (5.6.9)<br/>수육 (5.6.10)<br/>온두부 (5)<br/>양파절임 <br/>찜순대 (2.5.6.10.13.16)<br/>볶음김치 (9)<br/>쌈장 (5.6.13)<br/>딸기찹쌀떡 (2.5.6)<br/>깍두기 (9)']\n"
     ]
    }
   ],
   "source": [
    "# 메뉴 개수 최대 확인\n",
    "max_count = df[\"메뉴개수\"].max()\n",
    "print(df[df[\"메뉴개수\"] == max_count][\"메뉴이름\"].values)"
   ]
  },
  {
   "cell_type": "code",
   "execution_count": 17,
   "id": "8cfc0b20",
   "metadata": {},
   "outputs": [
    {
     "name": "stdout",
     "output_type": "stream",
     "text": [
      "시도명     462\n",
      "학교명     462\n",
      "급식날짜    462\n",
      "메뉴이름    462\n",
      "에너지     462\n",
      "영양정보    462\n",
      "메뉴개수    462\n",
      "dtype: int64\n"
     ]
    }
   ],
   "source": [
    "print(df[df[\"메뉴개수\"] >= 6].count())"
   ]
  },
  {
   "cell_type": "code",
   "execution_count": 18,
   "id": "79a4dcb5",
   "metadata": {},
   "outputs": [],
   "source": [
    "for i in range(max_menu_count):\n",
    "  df[f\"메뉴{i+1}\"] = menu_split.apply(lambda x: x[i] if i < len(x) else \"\")"
   ]
  },
  {
   "cell_type": "code",
   "execution_count": 19,
   "id": "8af8ea14",
   "metadata": {},
   "outputs": [
    {
     "name": "stdout",
     "output_type": "stream",
     "text": [
      "Index(['시도명', '학교명', '급식날짜', '메뉴이름', '에너지', '영양정보', '메뉴개수', '메뉴1', '메뉴2',\n",
      "       '메뉴3', '메뉴4', '메뉴5', '메뉴6', '메뉴7', '메뉴8', '메뉴9', '메뉴10'],\n",
      "      dtype='object')\n"
     ]
    }
   ],
   "source": [
    "print(df.columns)"
   ]
  },
  {
   "cell_type": "code",
   "execution_count": 20,
   "id": "84b22074",
   "metadata": {},
   "outputs": [],
   "source": [
    "# 메뉴이름, 메뉴개수 테이블 제거\n",
    "df.drop(columns=[\"메뉴이름\", \"메뉴개수\"], inplace=True)"
   ]
  },
  {
   "cell_type": "code",
   "execution_count": 21,
   "id": "eb06feea",
   "metadata": {},
   "outputs": [
    {
     "name": "stdout",
     "output_type": "stream",
     "text": [
      "        시도명     학교명      급식날짜         에너지  \\\n",
      "0  부산광역시교육청  명호고등학교  20220203  892.6 Kcal   \n",
      "1  부산광역시교육청  명호고등학교  20220204  902.1 Kcal   \n",
      "2  부산광역시교육청  명호고등학교  20220207  791.4 Kcal   \n",
      "3  부산광역시교육청  명호고등학교  20220208  641.7 Kcal   \n",
      "4  부산광역시교육청  명호고등학교  20220209  767.5 Kcal   \n",
      "\n",
      "                                                영양정보  \\\n",
      "0  탄수화물(g) : 109.7<br/>단백질(g) : 35.7<br/>지방(g) : ...   \n",
      "1  탄수화물(g) : 130.2<br/>단백질(g) : 37.1<br/>지방(g) : ...   \n",
      "2  탄수화물(g) : 119.4<br/>단백질(g) : 36.2<br/>지방(g) : ...   \n",
      "3  탄수화물(g) : 110.3<br/>단백질(g) : 33.5<br/>지방(g) : ...   \n",
      "4  탄수화물(g) : 110.3<br/>단백질(g) : 27.2<br/>지방(g) : ...   \n",
      "\n",
      "                           메뉴1                        메뉴2  \\\n",
      "0  돈삼겹숙주덮밥1.2.5.6.10.12.13.18.                    실파계란국1.   \n",
      "1                          찹쌀밥         들깨아욱된장국5.6.8.9.18.   \n",
      "2                          찹쌀밥         사골떡국1.2.5.6.10.16.   \n",
      "3        돼지국밥2.5.6.9.10.13.16.               부추겉절이5.6.13.   \n",
      "4           자장면1.5.6.10.13.16.  애플모찌탕수육1.5.6.10.11.12.13.   \n",
      "\n",
      "                   메뉴3                           메뉴4  \\\n",
      "0      느타리잔파초무침5.6.13.  당면김말이강정1.5.6.10.12.13.16.18.   \n",
      "1  냉푸실리파스타1.5.6.12.13.             견과류멸치볶음5.6.13.14.   \n",
      "2            겨울초겉절이13.                          호박볶음   \n",
      "3      오이고추된장무침5.6.13.                  도토리묵/양념장5.6.   \n",
      "4               배추김치9.                          단무지*   \n",
      "\n",
      "                             메뉴5        메뉴6 메뉴7 메뉴8 메뉴9 메뉴10  \n",
      "0                         배추김치9.                              \n",
      "1   고구마치즈돈까스1.2.5.6.10.12.13.16.     배추김치9.                   \n",
      "2  함박스테이크1.2.5.6.10.12.13.15.16.     배추김치9.                   \n",
      "3                          석박지9.                              \n",
      "4                         구운계란1.  제주감귤주스13.                   \n"
     ]
    }
   ],
   "source": [
    "print(df.head())"
   ]
  },
  {
   "cell_type": "markdown",
   "id": "61959562",
   "metadata": {},
   "source": [
    "### 2. 불필요 데이터 제거\n",
    "- 공백 제거\n",
    "- 숫자 데이터 제거\n",
    "- 특수 문자 제거"
   ]
  },
  {
   "cell_type": "code",
   "execution_count": 22,
   "id": "321da267",
   "metadata": {},
   "outputs": [],
   "source": [
    "# 문자값만 남기기\n",
    "import re\n",
    "\n",
    "def clean_menu_name(name):\n",
    "    if isinstance(name, str):\n",
    "        return re.sub(r\"[^가-힣a-zA-Z]\",\"\",name)\n",
    "    return name"
   ]
  },
  {
   "cell_type": "code",
   "execution_count": 23,
   "id": "afc5c6d1",
   "metadata": {},
   "outputs": [],
   "source": [
    "# 메뉴열 전체 정제\n",
    "for col in df.columns:\n",
    "    if col.startswith(\"메뉴\"):\n",
    "        df[col] = df[col].apply(clean_menu_name)"
   ]
  },
  {
   "cell_type": "code",
   "execution_count": 24,
   "id": "61521e27",
   "metadata": {},
   "outputs": [
    {
     "name": "stdout",
     "output_type": "stream",
     "text": [
      "        시도명     학교명      급식날짜         에너지  \\\n",
      "0  부산광역시교육청  명호고등학교  20220203  892.6 Kcal   \n",
      "1  부산광역시교육청  명호고등학교  20220204  902.1 Kcal   \n",
      "2  부산광역시교육청  명호고등학교  20220207  791.4 Kcal   \n",
      "3  부산광역시교육청  명호고등학교  20220208  641.7 Kcal   \n",
      "4  부산광역시교육청  명호고등학교  20220209  767.5 Kcal   \n",
      "\n",
      "                                                영양정보      메뉴1      메뉴2  \\\n",
      "0  탄수화물(g) : 109.7<br/>단백질(g) : 35.7<br/>지방(g) : ...  돈삼겹숙주덮밥    실파계란국   \n",
      "1  탄수화물(g) : 130.2<br/>단백질(g) : 37.1<br/>지방(g) : ...      찹쌀밥  들깨아욱된장국   \n",
      "2  탄수화물(g) : 119.4<br/>단백질(g) : 36.2<br/>지방(g) : ...      찹쌀밥     사골떡국   \n",
      "3  탄수화물(g) : 110.3<br/>단백질(g) : 33.5<br/>지방(g) : ...     돼지국밥    부추겉절이   \n",
      "4  탄수화물(g) : 110.3<br/>단백질(g) : 27.2<br/>지방(g) : ...      자장면  애플모찌탕수육   \n",
      "\n",
      "        메뉴3      메뉴4       메뉴5     메뉴6 메뉴7 메뉴8 메뉴9 메뉴10  \n",
      "0  느타리잔파초무침  당면김말이강정      배추김치                           \n",
      "1   냉푸실리파스타  견과류멸치볶음  고구마치즈돈까스    배추김치                   \n",
      "2    겨울초겉절이     호박볶음    함박스테이크    배추김치                   \n",
      "3  오이고추된장무침  도토리묵양념장       석박지                           \n",
      "4      배추김치      단무지      구운계란  제주감귤주스                   \n"
     ]
    }
   ],
   "source": [
    "print(df.head())"
   ]
  },
  {
   "cell_type": "markdown",
   "id": "a8f9317c",
   "metadata": {},
   "source": [
    "# 3. 영양정보 분리\n",
    "### 1. 영양정보 자료 `<br/>` 기준으로 분리\n",
    "### 2. \" : \" 기준 항목과 수치를 분리해 col 생성"
   ]
  },
  {
   "cell_type": "code",
   "execution_count": 25,
   "id": "9783adcc",
   "metadata": {},
   "outputs": [],
   "source": [
    "def parse_nutrition_info(row):\n",
    "    result = {}\n",
    "    if pd.isnull(row):\n",
    "        return result\n",
    "    items = row.split(\"<br/>\")\n",
    "    for item in items:\n",
    "        if \":\" in item:\n",
    "            key, value = item.split(\":\", 1)\n",
    "\n",
    "            # 열 이름 정제\n",
    "            key = key.replace(\" \", \"\")\n",
    "            \n",
    "            # 값 정제\n",
    "            value = value.replace(\" \", \"\")\n",
    "\n",
    "            try:\n",
    "                result[key] = float(value)\n",
    "            except ValueError:\n",
    "                result[key] = None\n",
    "    return result"
   ]
  },
  {
   "cell_type": "code",
   "execution_count": 26,
   "id": "61f6e12a",
   "metadata": {},
   "outputs": [],
   "source": [
    "nutrition_df = df[\"영양정보\"].apply(parse_nutrition_info).apply(pd.Series)"
   ]
  },
  {
   "cell_type": "code",
   "execution_count": 27,
   "id": "73c4cda5",
   "metadata": {},
   "outputs": [],
   "source": [
    "nutrition_df = nutrition_df.astype(\"float64\")"
   ]
  },
  {
   "cell_type": "code",
   "execution_count": 28,
   "id": "b611a06b",
   "metadata": {},
   "outputs": [
    {
     "name": "stdout",
     "output_type": "stream",
     "text": [
      "   탄수화물(g)  단백질(g)  지방(g)  비타민A(R.E)  티아민(mg)  리보플라빈(mg)  비타민C(mg)  칼슘(mg)  \\\n",
      "0    109.7    35.7   34.7      125.5      0.6        0.5       9.6   280.2   \n",
      "1    130.2    37.1   25.8      192.5      0.5        0.5      20.2   362.7   \n",
      "2    119.4    36.2   20.7      407.1      0.5        0.5      49.9   384.9   \n",
      "3    110.3    33.5    8.9      158.5      0.6        0.7      34.4    83.4   \n",
      "4    110.3    27.2   27.4      227.2      0.4        1.3      74.3   209.0   \n",
      "\n",
      "   철분(mg)  \n",
      "0    11.0  \n",
      "1     3.4  \n",
      "2     5.0  \n",
      "3     6.9  \n",
      "4     9.7  \n"
     ]
    }
   ],
   "source": [
    "print(nutrition_df.head())"
   ]
  },
  {
   "cell_type": "code",
   "execution_count": 29,
   "id": "fd8c3026",
   "metadata": {},
   "outputs": [],
   "source": [
    "# 기존 df병합\n",
    "df = pd.concat([df, nutrition_df], axis=1)"
   ]
  },
  {
   "cell_type": "code",
   "execution_count": 30,
   "id": "b839b14c",
   "metadata": {},
   "outputs": [],
   "source": [
    "# 영양정보 열 삭제\n",
    "df.drop(columns=[\"영양정보\"], inplace=True)"
   ]
  },
  {
   "cell_type": "code",
   "execution_count": 31,
   "id": "4372553a",
   "metadata": {},
   "outputs": [
    {
     "name": "stdout",
     "output_type": "stream",
     "text": [
      "        시도명     학교명      급식날짜         에너지      메뉴1      메뉴2       메뉴3  \\\n",
      "0  부산광역시교육청  명호고등학교  20220203  892.6 Kcal  돈삼겹숙주덮밥    실파계란국  느타리잔파초무침   \n",
      "1  부산광역시교육청  명호고등학교  20220204  902.1 Kcal      찹쌀밥  들깨아욱된장국   냉푸실리파스타   \n",
      "2  부산광역시교육청  명호고등학교  20220207  791.4 Kcal      찹쌀밥     사골떡국    겨울초겉절이   \n",
      "3  부산광역시교육청  명호고등학교  20220208  641.7 Kcal     돼지국밥    부추겉절이  오이고추된장무침   \n",
      "4  부산광역시교육청  명호고등학교  20220209  767.5 Kcal      자장면  애플모찌탕수육      배추김치   \n",
      "\n",
      "       메뉴4       메뉴5     메뉴6  ... 메뉴10 탄수화물(g) 단백질(g) 지방(g)  비타민A(R.E)  \\\n",
      "0  당면김말이강정      배추김치          ...        109.7   35.7  34.7      125.5   \n",
      "1  견과류멸치볶음  고구마치즈돈까스    배추김치  ...        130.2   37.1  25.8      192.5   \n",
      "2     호박볶음    함박스테이크    배추김치  ...        119.4   36.2  20.7      407.1   \n",
      "3  도토리묵양념장       석박지          ...        110.3   33.5   8.9      158.5   \n",
      "4      단무지      구운계란  제주감귤주스  ...        110.3   27.2  27.4      227.2   \n",
      "\n",
      "   티아민(mg)  리보플라빈(mg)  비타민C(mg)  칼슘(mg)  철분(mg)  \n",
      "0      0.6        0.5       9.6   280.2    11.0  \n",
      "1      0.5        0.5      20.2   362.7     3.4  \n",
      "2      0.5        0.5      49.9   384.9     5.0  \n",
      "3      0.6        0.7      34.4    83.4     6.9  \n",
      "4      0.4        1.3      74.3   209.0     9.7  \n",
      "\n",
      "[5 rows x 23 columns]\n"
     ]
    }
   ],
   "source": [
    "print(df.head())"
   ]
  },
  {
   "cell_type": "markdown",
   "id": "86b4a96e",
   "metadata": {},
   "source": [
    "### 3. 에너지 열 정리"
   ]
  },
  {
   "cell_type": "code",
   "execution_count": 32,
   "id": "9d22012d",
   "metadata": {},
   "outputs": [],
   "source": [
    "# 정규표현식으로 숫자만 추출 후 float 변환\n",
    "df[\"에너지(kcal)\"]=df[\"에너지\"].str.extract(r\"(\\d+(?:\\.\\d+)?)\")[0].astype(float)"
   ]
  },
  {
   "cell_type": "code",
   "execution_count": 33,
   "id": "a54dcccf",
   "metadata": {},
   "outputs": [
    {
     "name": "stdout",
     "output_type": "stream",
     "text": [
      "        시도명     학교명      급식날짜         에너지      메뉴1      메뉴2       메뉴3  \\\n",
      "0  부산광역시교육청  명호고등학교  20220203  892.6 Kcal  돈삼겹숙주덮밥    실파계란국  느타리잔파초무침   \n",
      "1  부산광역시교육청  명호고등학교  20220204  902.1 Kcal      찹쌀밥  들깨아욱된장국   냉푸실리파스타   \n",
      "2  부산광역시교육청  명호고등학교  20220207  791.4 Kcal      찹쌀밥     사골떡국    겨울초겉절이   \n",
      "3  부산광역시교육청  명호고등학교  20220208  641.7 Kcal     돼지국밥    부추겉절이  오이고추된장무침   \n",
      "4  부산광역시교육청  명호고등학교  20220209  767.5 Kcal      자장면  애플모찌탕수육      배추김치   \n",
      "\n",
      "       메뉴4       메뉴5     메뉴6  ... 탄수화물(g) 단백질(g) 지방(g) 비타민A(R.E)  티아민(mg)  \\\n",
      "0  당면김말이강정      배추김치          ...   109.7   35.7  34.7     125.5      0.6   \n",
      "1  견과류멸치볶음  고구마치즈돈까스    배추김치  ...   130.2   37.1  25.8     192.5      0.5   \n",
      "2     호박볶음    함박스테이크    배추김치  ...   119.4   36.2  20.7     407.1      0.5   \n",
      "3  도토리묵양념장       석박지          ...   110.3   33.5   8.9     158.5      0.6   \n",
      "4      단무지      구운계란  제주감귤주스  ...   110.3   27.2  27.4     227.2      0.4   \n",
      "\n",
      "   리보플라빈(mg)  비타민C(mg)  칼슘(mg)  철분(mg)  에너지(kcal)  \n",
      "0        0.5       9.6   280.2    11.0      892.6  \n",
      "1        0.5      20.2   362.7     3.4      902.1  \n",
      "2        0.5      49.9   384.9     5.0      791.4  \n",
      "3        0.7      34.4    83.4     6.9      641.7  \n",
      "4        1.3      74.3   209.0     9.7      767.5  \n",
      "\n",
      "[5 rows x 24 columns]\n"
     ]
    }
   ],
   "source": [
    "print(df.head())"
   ]
  },
  {
   "cell_type": "code",
   "execution_count": 34,
   "id": "f51f01b5",
   "metadata": {},
   "outputs": [],
   "source": [
    "df.drop(columns=[\"에너지\"], inplace=True)"
   ]
  },
  {
   "cell_type": "markdown",
   "id": "0b719fbc",
   "metadata": {},
   "source": [
    "### 4. 열 형식 변경"
   ]
  },
  {
   "cell_type": "code",
   "execution_count": 36,
   "id": "429119cd",
   "metadata": {},
   "outputs": [
    {
     "name": "stdout",
     "output_type": "stream",
     "text": [
      "<class 'pandas.core.frame.DataFrame'>\n",
      "Index: 573 entries, 0 to 1044\n",
      "Data columns (total 23 columns):\n",
      " #   Column     Non-Null Count  Dtype  \n",
      "---  ------     --------------  -----  \n",
      " 0   시도명        573 non-null    object \n",
      " 1   학교명        573 non-null    object \n",
      " 2   급식날짜       573 non-null    int64  \n",
      " 3   메뉴1        573 non-null    object \n",
      " 4   메뉴2        573 non-null    object \n",
      " 5   메뉴3        573 non-null    object \n",
      " 6   메뉴4        573 non-null    object \n",
      " 7   메뉴5        573 non-null    object \n",
      " 8   메뉴6        573 non-null    object \n",
      " 9   메뉴7        573 non-null    object \n",
      " 10  메뉴8        573 non-null    object \n",
      " 11  메뉴9        573 non-null    object \n",
      " 12  메뉴10       573 non-null    object \n",
      " 13  탄수화물(g)    573 non-null    float64\n",
      " 14  단백질(g)     573 non-null    float64\n",
      " 15  지방(g)      573 non-null    float64\n",
      " 16  비타민A(R.E)  573 non-null    float64\n",
      " 17  티아민(mg)    573 non-null    float64\n",
      " 18  리보플라빈(mg)  573 non-null    float64\n",
      " 19  비타민C(mg)   573 non-null    float64\n",
      " 20  칼슘(mg)     573 non-null    float64\n",
      " 21  철분(mg)     573 non-null    float64\n",
      " 22  에너지(kcal)  573 non-null    float64\n",
      "dtypes: float64(10), int64(1), object(12)\n",
      "memory usage: 107.4+ KB\n",
      "None\n"
     ]
    }
   ],
   "source": [
    "print(df.info())"
   ]
  },
  {
   "cell_type": "code",
   "execution_count": 37,
   "id": "ad03a169",
   "metadata": {},
   "outputs": [],
   "source": [
    "# 급식날짜 열 별경\n",
    "df[\"급식날짜\"]=pd.to_datetime(df[\"급식날짜\"],format=\"%Y%m%d\")"
   ]
  },
  {
   "cell_type": "code",
   "execution_count": 38,
   "id": "733251e4",
   "metadata": {},
   "outputs": [
    {
     "name": "stdout",
     "output_type": "stream",
     "text": [
      "<class 'pandas.core.frame.DataFrame'>\n",
      "Index: 573 entries, 0 to 1044\n",
      "Data columns (total 23 columns):\n",
      " #   Column     Non-Null Count  Dtype         \n",
      "---  ------     --------------  -----         \n",
      " 0   시도명        573 non-null    object        \n",
      " 1   학교명        573 non-null    object        \n",
      " 2   급식날짜       573 non-null    datetime64[ns]\n",
      " 3   메뉴1        573 non-null    object        \n",
      " 4   메뉴2        573 non-null    object        \n",
      " 5   메뉴3        573 non-null    object        \n",
      " 6   메뉴4        573 non-null    object        \n",
      " 7   메뉴5        573 non-null    object        \n",
      " 8   메뉴6        573 non-null    object        \n",
      " 9   메뉴7        573 non-null    object        \n",
      " 10  메뉴8        573 non-null    object        \n",
      " 11  메뉴9        573 non-null    object        \n",
      " 12  메뉴10       573 non-null    object        \n",
      " 13  탄수화물(g)    573 non-null    float64       \n",
      " 14  단백질(g)     573 non-null    float64       \n",
      " 15  지방(g)      573 non-null    float64       \n",
      " 16  비타민A(R.E)  573 non-null    float64       \n",
      " 17  티아민(mg)    573 non-null    float64       \n",
      " 18  리보플라빈(mg)  573 non-null    float64       \n",
      " 19  비타민C(mg)   573 non-null    float64       \n",
      " 20  칼슘(mg)     573 non-null    float64       \n",
      " 21  철분(mg)     573 non-null    float64       \n",
      " 22  에너지(kcal)  573 non-null    float64       \n",
      "dtypes: datetime64[ns](1), float64(10), object(12)\n",
      "memory usage: 107.4+ KB\n",
      "None\n"
     ]
    }
   ],
   "source": [
    "print(df.info())"
   ]
  },
  {
   "cell_type": "code",
   "execution_count": 39,
   "id": "e0527e7b",
   "metadata": {},
   "outputs": [
    {
     "name": "stdout",
     "output_type": "stream",
     "text": [
      "        시도명     학교명       급식날짜      메뉴1      메뉴2       메뉴3      메뉴4       메뉴5  \\\n",
      "0  부산광역시교육청  명호고등학교 2022-02-03  돈삼겹숙주덮밥    실파계란국  느타리잔파초무침  당면김말이강정      배추김치   \n",
      "1  부산광역시교육청  명호고등학교 2022-02-04      찹쌀밥  들깨아욱된장국   냉푸실리파스타  견과류멸치볶음  고구마치즈돈까스   \n",
      "2  부산광역시교육청  명호고등학교 2022-02-07      찹쌀밥     사골떡국    겨울초겉절이     호박볶음    함박스테이크   \n",
      "3  부산광역시교육청  명호고등학교 2022-02-08     돼지국밥    부추겉절이  오이고추된장무침  도토리묵양념장       석박지   \n",
      "4  부산광역시교육청  명호고등학교 2022-02-09      자장면  애플모찌탕수육      배추김치      단무지      구운계란   \n",
      "\n",
      "      메뉴6 메뉴7  ... 탄수화물(g) 단백질(g) 지방(g)  비타민A(R.E)  티아민(mg)  리보플라빈(mg)  \\\n",
      "0              ...   109.7   35.7  34.7      125.5      0.6        0.5   \n",
      "1    배추김치      ...   130.2   37.1  25.8      192.5      0.5        0.5   \n",
      "2    배추김치      ...   119.4   36.2  20.7      407.1      0.5        0.5   \n",
      "3              ...   110.3   33.5   8.9      158.5      0.6        0.7   \n",
      "4  제주감귤주스      ...   110.3   27.2  27.4      227.2      0.4        1.3   \n",
      "\n",
      "   비타민C(mg)  칼슘(mg)  철분(mg)  에너지(kcal)  \n",
      "0       9.6   280.2    11.0      892.6  \n",
      "1      20.2   362.7     3.4      902.1  \n",
      "2      49.9   384.9     5.0      791.4  \n",
      "3      34.4    83.4     6.9      641.7  \n",
      "4      74.3   209.0     9.7      767.5  \n",
      "\n",
      "[5 rows x 23 columns]\n"
     ]
    }
   ],
   "source": [
    "print(df.head())"
   ]
  },
  {
   "cell_type": "markdown",
   "id": "ac741a5f",
   "metadata": {},
   "source": [
    "# 4. 다른 파일로 저장"
   ]
  },
  {
   "cell_type": "code",
   "execution_count": 40,
   "id": "a8004b34",
   "metadata": {},
   "outputs": [],
   "source": [
    "# 한글이 깨지지 않게 UTF-8 with BOM 형식 저장\n",
    "df.to_csv('preprocess_school_food.csv', index=False, encoding='utf-8-sig')"
   ]
  }
 ],
 "metadata": {
  "kernelspec": {
   "display_name": "Python 3",
   "language": "python",
   "name": "python3"
  },
  "language_info": {
   "codemirror_mode": {
    "name": "ipython",
    "version": 3
   },
   "file_extension": ".py",
   "mimetype": "text/x-python",
   "name": "python",
   "nbconvert_exporter": "python",
   "pygments_lexer": "ipython3",
   "version": "3.10.11"
  }
 },
 "nbformat": 4,
 "nbformat_minor": 5
}
