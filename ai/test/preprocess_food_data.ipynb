{
 "cells": [
  {
   "cell_type": "code",
   "execution_count": 1,
   "id": "197a24c7",
   "metadata": {},
   "outputs": [],
   "source": [
    "import pandas as pd\n",
    "import numpy as np"
   ]
  },
  {
   "cell_type": "code",
   "execution_count": 2,
   "id": "cd871d8b",
   "metadata": {},
   "outputs": [],
   "source": [
    "# 엑셀 파일 경로\n",
    "file_path = \"food_data.xlsx\""
   ]
  },
  {
   "cell_type": "code",
   "execution_count": 3,
   "id": "a9babc94",
   "metadata": {},
   "outputs": [],
   "source": [
    "df = pd.read_excel(file_path)"
   ]
  },
  {
   "cell_type": "code",
   "execution_count": 4,
   "id": "524668d1",
   "metadata": {},
   "outputs": [
    {
     "name": "stdout",
     "output_type": "stream",
     "text": [
      "데이터의 기본 정보\n",
      "<class 'pandas.core.frame.DataFrame'>\n",
      "RangeIndex: 400 entries, 0 to 399\n",
      "Data columns (total 16 columns):\n",
      " #   Column     Non-Null Count  Dtype  \n",
      "---  ------     --------------  -----  \n",
      " 0   음 식 명      400 non-null    object \n",
      " 1   중량(g)      400 non-null    float64\n",
      " 2   에너지(kcal)  400 non-null    float64\n",
      " 3   탄수화물(g)    400 non-null    float64\n",
      " 4   당류(g)      400 non-null    float64\n",
      " 5   지방(g)      400 non-null    float64\n",
      " 6   단백질(g)     400 non-null    float64\n",
      " 7   칼슘(mg)     400 non-null    object \n",
      " 8   인(mg)      400 non-null    object \n",
      " 9   나트륨(mg)    400 non-null    float64\n",
      " 10  칼륨(mg)     400 non-null    object \n",
      " 11  마그네슘(mg)   400 non-null    object \n",
      " 12  철(mg)      400 non-null    object \n",
      " 13  아연(mg)     400 non-null    object \n",
      " 14  콜레스테롤(mg)  400 non-null    float64\n",
      " 15  트랜스지방(g)   400 non-null    int64  \n",
      "dtypes: float64(8), int64(1), object(7)\n",
      "memory usage: 50.1+ KB\n",
      "None\n",
      "데이터의 행과 열 개수\n",
      "(400, 16)\n",
      "데이터의 통계적 요약\n",
      "             중량(g)    에너지(kcal)     탄수화물(g)       당류(g)       지방(g)  \\\n",
      "count   400.000000   400.000000  400.000000  400.000000  400.000000   \n",
      "mean    322.425250   330.958890   39.197568    2.663377   11.298881   \n",
      "std     272.686979   244.523624   36.123958    5.484688   12.472310   \n",
      "min      10.000000     3.904200    0.182400    0.000000    0.020400   \n",
      "25%     100.000000   131.996625   10.191300    0.000000    2.364000   \n",
      "50%     220.000000   266.630600   23.824250    0.000000    7.170750   \n",
      "75%     500.000000   507.432000   67.497000    2.997000   16.398500   \n",
      "max    1500.000000  1358.384000  153.785100   57.524000   99.516400   \n",
      "\n",
      "           단백질(g)      나트륨(mg)    콜레스테롤(mg)  트랜스지방(g)  \n",
      "count  400.000000   400.000000   400.000000     400.0  \n",
      "mean    18.284522  1032.394070    97.316529       0.0  \n",
      "std     16.546250   779.904987   153.944099       0.0  \n",
      "min      0.112900     3.392000     0.000000       0.0  \n",
      "25%      5.499500   352.673500     0.000000       0.0  \n",
      "50%     14.673000   867.430800    40.089450       0.0  \n",
      "75%     24.963000  1515.520000   134.722250       0.0  \n",
      "max    114.902000  5290.091000  1480.970000       0.0  \n",
      "데이터의 열 이름\n",
      "Index(['음 식 명', '중량(g)', '에너지(kcal)', '탄수화물(g)', '당류(g)', '지방(g)', '단백질(g)',\n",
      "       '칼슘(mg)', '인(mg)', '나트륨(mg)', '칼륨(mg)', '마그네슘(mg)', '철(mg)', '아연(mg)',\n",
      "       '콜레스테롤(mg)', '트랜스지방(g)'],\n",
      "      dtype='object')\n",
      "데이터의 결측치 확인\n",
      "음 식 명        0\n",
      "중량(g)        0\n",
      "에너지(kcal)    0\n",
      "탄수화물(g)      0\n",
      "당류(g)        0\n",
      "지방(g)        0\n",
      "단백질(g)       0\n",
      "칼슘(mg)       0\n",
      "인(mg)        0\n",
      "나트륨(mg)      0\n",
      "칼륨(mg)       0\n",
      "마그네슘(mg)     0\n",
      "철(mg)        0\n",
      "아연(mg)       0\n",
      "콜레스테롤(mg)    0\n",
      "트랜스지방(g)     0\n",
      "dtype: int64\n",
      "데이터의 중복 확인\n",
      "0\n",
      "데이터의 고유값 확인\n",
      "음 식 명        400\n",
      "중량(g)         33\n",
      "에너지(kcal)    400\n",
      "탄수화물(g)      398\n",
      "당류(g)        163\n",
      "지방(g)        400\n",
      "단백질(g)       400\n",
      "칼슘(mg)       399\n",
      "인(mg)        399\n",
      "나트륨(mg)      399\n",
      "칼륨(mg)       399\n",
      "마그네슘(mg)     117\n",
      "철(mg)        397\n",
      "아연(mg)       396\n",
      "콜레스테롤(mg)    289\n",
      "트랜스지방(g)       1\n",
      "dtype: int64\n",
      "데이터의 데이터 타입 확인\n",
      "음 식 명         object\n",
      "중량(g)        float64\n",
      "에너지(kcal)    float64\n",
      "탄수화물(g)      float64\n",
      "당류(g)        float64\n",
      "지방(g)        float64\n",
      "단백질(g)       float64\n",
      "칼슘(mg)        object\n",
      "인(mg)         object\n",
      "나트륨(mg)      float64\n",
      "칼륨(mg)        object\n",
      "마그네슘(mg)      object\n",
      "철(mg)         object\n",
      "아연(mg)        object\n",
      "콜레스테롤(mg)    float64\n",
      "트랜스지방(g)       int64\n",
      "dtype: object\n"
     ]
    }
   ],
   "source": [
    "# 기본 데이터 이해\n",
    "print(\"데이터의 기본 정보\")\n",
    "print(df.info())\n",
    "# 데이터의 행과 열 개수\n",
    "print(\"데이터의 행과 열 개수\")\n",
    "print(df.shape)\n",
    "# 데이터의 통계적 요약\n",
    "print(\"데이터의 통계적 요약\")\n",
    "print(df.describe())\n",
    "# 데이터의 열 이름\n",
    "print(\"데이터의 열 이름\")\n",
    "print(df.columns)\n",
    "# 데이터의 결측치 확인\n",
    "print(\"데이터의 결측치 확인\")\n",
    "print(df.isnull().sum())\n",
    "# 데이터의 중복 확인\n",
    "print(\"데이터의 중복 확인\")\n",
    "print(df.duplicated().sum())\n",
    "# 데이터의 고유값 개수 확인\n",
    "print(\"데이터의 고유값 확인\")\n",
    "print(df.nunique())\n",
    "# 데이터의 데이터 타입 확인\n",
    "print(\"데이터의 데이터 타입 확인\")\n",
    "print(df.dtypes)\n"
   ]
  },
  {
   "cell_type": "markdown",
   "id": "fadf68d9",
   "metadata": {},
   "source": [
    "# 정제 방향성\n",
    "\n",
    "### 1. 전체 데이터(제목행 포함) 띄어쓰기 제거\n",
    "\n",
    "### 2. 결측치 처리\n",
    "- \"-\" => 0.00 변경\n",
    "\n",
    "### 3. 학교 식단과 매핑(메뉴명 학교st로 바꿈)\n",
    "\n",
    "### 4. SQL문 생성"
   ]
  },
  {
   "cell_type": "markdown",
   "id": "3e2d5ec1",
   "metadata": {},
   "source": [
    "# 1. 띄어쓰기 제거"
   ]
  },
  {
   "cell_type": "code",
   "execution_count": 5,
   "id": "b16a23e3",
   "metadata": {},
   "outputs": [
    {
     "name": "stderr",
     "output_type": "stream",
     "text": [
      "C:\\Users\\SSAFY\\AppData\\Local\\Temp\\ipykernel_20264\\900354131.py:2: FutureWarning: DataFrame.applymap has been deprecated. Use DataFrame.map instead.\n",
      "  df = df.applymap(lambda x: x.replace(\" \", \"\") if isinstance(x, str) else x)\n"
     ]
    }
   ],
   "source": [
    "# value 공백 제거\n",
    "df = df.applymap(lambda x: x.replace(\" \", \"\") if isinstance(x, str) else x)\n",
    "\n",
    "# clumn 공백 제거\n",
    "df.columns = df.columns.str.replace(\" \", \"\")"
   ]
  },
  {
   "cell_type": "code",
   "execution_count": 6,
   "id": "375c6d1d",
   "metadata": {},
   "outputs": [
    {
     "name": "stdout",
     "output_type": "stream",
     "text": [
      "     음식명  중량(g)  에너지(kcal)   탄수화물(g)  당류(g)   지방(g)   단백질(g)  칼슘(mg)    인(mg)  \\\n",
      "0     쌀밥  210.0    334.800   73.7100    0.0  0.4500   5.7600     3.6      126   \n",
      "1  기타잡곡밥  200.0    302.362   65.5211    0.0  0.7462   6.7092   12.06  117.836   \n",
      "2     콩밥  200.0    322.900   65.8460    0.0  1.6660   8.4280    24.7    126.9   \n",
      "3    보리밥  200.0    316.100   70.5700    0.0  0.1400   5.5500     6.7     68.8   \n",
      "4    돌솥밥  350.0    528.855  101.8500    0.0  8.3470  10.1870  61.455   193.72   \n",
      "\n",
      "   나트륨(mg)   칼륨(mg) 마그네슘(mg)   철(mg)  아연(mg)  콜레스테롤(mg)  트랜스지방(g)  \n",
      "0   59.400    146.7        -    0.36    1.35      0.000         0  \n",
      "1    3.392  166.718      6.9  1.7447  1.8264      0.000         0  \n",
      "2    4.100    258.4     22.5    1.74    1.61      0.000         0  \n",
      "3    4.500    100.6        0    1.26    1.41      0.000         0  \n",
      "4  618.315   624.32   57.785   3.321   2.582      2.365         0  \n"
     ]
    }
   ],
   "source": [
    "print(df.head())"
   ]
  },
  {
   "cell_type": "code",
   "execution_count": 7,
   "id": "432742a0",
   "metadata": {},
   "outputs": [
    {
     "name": "stderr",
     "output_type": "stream",
     "text": [
      "C:\\Users\\SSAFY\\AppData\\Local\\Temp\\ipykernel_20264\\3317425579.py:3: FutureWarning: DataFrame.applymap has been deprecated. Use DataFrame.map instead.\n",
      "  df = df.applymap(lambda x: re.sub(r\"\\s+\", \"\", x) if isinstance(x, str) else x)\n"
     ]
    }
   ],
   "source": [
    "# 공백 문자 제거(탭, 줄바꿈 등)\n",
    "import re\n",
    "df = df.applymap(lambda x: re.sub(r\"\\s+\", \"\", x) if isinstance(x, str) else x)\n",
    "df.columns = [re.sub(r\"\\s+\", \"\", col) for col in df.columns]"
   ]
  },
  {
   "cell_type": "code",
   "execution_count": 8,
   "id": "6e650f2f",
   "metadata": {},
   "outputs": [
    {
     "name": "stdout",
     "output_type": "stream",
     "text": [
      "     음식명  중량(g)  에너지(kcal)   탄수화물(g)  당류(g)   지방(g)   단백질(g)  칼슘(mg)    인(mg)  \\\n",
      "0     쌀밥  210.0    334.800   73.7100    0.0  0.4500   5.7600     3.6      126   \n",
      "1  기타잡곡밥  200.0    302.362   65.5211    0.0  0.7462   6.7092   12.06  117.836   \n",
      "2     콩밥  200.0    322.900   65.8460    0.0  1.6660   8.4280    24.7    126.9   \n",
      "3    보리밥  200.0    316.100   70.5700    0.0  0.1400   5.5500     6.7     68.8   \n",
      "4    돌솥밥  350.0    528.855  101.8500    0.0  8.3470  10.1870  61.455   193.72   \n",
      "\n",
      "   나트륨(mg)   칼륨(mg) 마그네슘(mg)   철(mg)  아연(mg)  콜레스테롤(mg)  트랜스지방(g)  \n",
      "0   59.400    146.7        -    0.36    1.35      0.000         0  \n",
      "1    3.392  166.718      6.9  1.7447  1.8264      0.000         0  \n",
      "2    4.100    258.4     22.5    1.74    1.61      0.000         0  \n",
      "3    4.500    100.6        0    1.26    1.41      0.000         0  \n",
      "4  618.315   624.32   57.785   3.321   2.582      2.365         0  \n"
     ]
    }
   ],
   "source": [
    "print(df.head())"
   ]
  },
  {
   "cell_type": "markdown",
   "id": "8876602a",
   "metadata": {},
   "source": [
    "# 2. 결측치 처리"
   ]
  },
  {
   "cell_type": "markdown",
   "id": "c87bf9ba",
   "metadata": {},
   "source": [
    "### 1. 음식명 col 빼고는 모두 numeric\n",
    "음식명 말고 모든 dtype은 float이어야 함"
   ]
  },
  {
   "cell_type": "code",
   "execution_count": 9,
   "id": "430155d9",
   "metadata": {},
   "outputs": [
    {
     "name": "stdout",
     "output_type": "stream",
     "text": [
      "데이터의 기본 정보\n",
      "<class 'pandas.core.frame.DataFrame'>\n",
      "RangeIndex: 400 entries, 0 to 399\n",
      "Data columns (total 16 columns):\n",
      " #   Column     Non-Null Count  Dtype  \n",
      "---  ------     --------------  -----  \n",
      " 0   음식명        400 non-null    object \n",
      " 1   중량(g)      400 non-null    float64\n",
      " 2   에너지(kcal)  400 non-null    float64\n",
      " 3   탄수화물(g)    400 non-null    float64\n",
      " 4   당류(g)      400 non-null    float64\n",
      " 5   지방(g)      400 non-null    float64\n",
      " 6   단백질(g)     400 non-null    float64\n",
      " 7   칼슘(mg)     400 non-null    object \n",
      " 8   인(mg)      400 non-null    object \n",
      " 9   나트륨(mg)    400 non-null    float64\n",
      " 10  칼륨(mg)     400 non-null    object \n",
      " 11  마그네슘(mg)   400 non-null    object \n",
      " 12  철(mg)      400 non-null    object \n",
      " 13  아연(mg)     400 non-null    object \n",
      " 14  콜레스테롤(mg)  400 non-null    float64\n",
      " 15  트랜스지방(g)   400 non-null    int64  \n",
      "dtypes: float64(8), int64(1), object(7)\n",
      "memory usage: 50.1+ KB\n",
      "None\n"
     ]
    }
   ],
   "source": [
    "# dtype 확인\n",
    "print(\"데이터의 기본 정보\")\n",
    "print(df.info())"
   ]
  },
  {
   "cell_type": "code",
   "execution_count": 10,
   "id": "1c7d79b0",
   "metadata": {},
   "outputs": [],
   "source": [
    "# 음식명 제외 dtype 모두 float64로 변환\n",
    "for col in df.columns[1:]:\n",
    "    # 에러 발생 시 NaN으로 변환\n",
    "    df[col] = pd.to_numeric(df[col], errors='coerce')"
   ]
  },
  {
   "cell_type": "code",
   "execution_count": 11,
   "id": "047c0bc7",
   "metadata": {},
   "outputs": [
    {
     "name": "stdout",
     "output_type": "stream",
     "text": [
      "데이터의 결측치 확인\n",
      "음식명            0\n",
      "중량(g)          0\n",
      "에너지(kcal)      0\n",
      "탄수화물(g)        0\n",
      "당류(g)          0\n",
      "지방(g)          0\n",
      "단백질(g)         0\n",
      "칼슘(mg)         2\n",
      "인(mg)          2\n",
      "나트륨(mg)        0\n",
      "칼륨(mg)         2\n",
      "마그네슘(mg)     261\n",
      "철(mg)          2\n",
      "아연(mg)         2\n",
      "콜레스테롤(mg)      0\n",
      "트랜스지방(g)       0\n",
      "dtype: int64\n"
     ]
    }
   ],
   "source": [
    "# 결측치 확인(dtype 변환 후)\n",
    "print(\"데이터의 결측치 확인\")\n",
    "print(df.isnull().sum())"
   ]
  },
  {
   "cell_type": "markdown",
   "id": "468d2392",
   "metadata": {},
   "source": [
    "### 2. -값(NaN) 대체\n",
    "value 중에서 col이 numeric일 때, -값을 0으로 변환"
   ]
  },
  {
   "cell_type": "code",
   "execution_count": 12,
   "id": "4d48fe91",
   "metadata": {},
   "outputs": [],
   "source": [
    "# 수치값 결측치므로 다 0으로 치환\n",
    "df.fillna(0, inplace=True)"
   ]
  },
  {
   "cell_type": "code",
   "execution_count": 13,
   "id": "59ec75b2",
   "metadata": {},
   "outputs": [
    {
     "name": "stdout",
     "output_type": "stream",
     "text": [
      "결측치 처리 후 데이터의 결측치 확인\n",
      "음식명          0\n",
      "중량(g)        0\n",
      "에너지(kcal)    0\n",
      "탄수화물(g)      0\n",
      "당류(g)        0\n",
      "지방(g)        0\n",
      "단백질(g)       0\n",
      "칼슘(mg)       0\n",
      "인(mg)        0\n",
      "나트륨(mg)      0\n",
      "칼륨(mg)       0\n",
      "마그네슘(mg)     0\n",
      "철(mg)        0\n",
      "아연(mg)       0\n",
      "콜레스테롤(mg)    0\n",
      "트랜스지방(g)     0\n",
      "dtype: int64\n"
     ]
    }
   ],
   "source": [
    "print(\"결측치 처리 후 데이터의 결측치 확인\")\n",
    "print(df.isnull().sum())"
   ]
  },
  {
   "cell_type": "code",
   "execution_count": 14,
   "id": "fdeb096c",
   "metadata": {},
   "outputs": [
    {
     "name": "stdout",
     "output_type": "stream",
     "text": [
      "     음식명  중량(g)  에너지(kcal)   탄수화물(g)  당류(g)   지방(g)   단백질(g)  칼슘(mg)    인(mg)  \\\n",
      "0     쌀밥  210.0    334.800   73.7100    0.0  0.4500   5.7600   3.600  126.000   \n",
      "1  기타잡곡밥  200.0    302.362   65.5211    0.0  0.7462   6.7092  12.060  117.836   \n",
      "2     콩밥  200.0    322.900   65.8460    0.0  1.6660   8.4280  24.700  126.900   \n",
      "3    보리밥  200.0    316.100   70.5700    0.0  0.1400   5.5500   6.700   68.800   \n",
      "4    돌솥밥  350.0    528.855  101.8500    0.0  8.3470  10.1870  61.455  193.720   \n",
      "\n",
      "   나트륨(mg)   칼륨(mg)  마그네슘(mg)   철(mg)  아연(mg)  콜레스테롤(mg)  트랜스지방(g)  \n",
      "0   59.400  146.700     0.000  0.3600  1.3500      0.000         0  \n",
      "1    3.392  166.718     6.900  1.7447  1.8264      0.000         0  \n",
      "2    4.100  258.400    22.500  1.7400  1.6100      0.000         0  \n",
      "3    4.500  100.600     0.000  1.2600  1.4100      0.000         0  \n",
      "4  618.315  624.320    57.785  3.3210  2.5820      2.365         0  \n"
     ]
    }
   ],
   "source": [
    "print(df.head())"
   ]
  },
  {
   "cell_type": "markdown",
   "id": "ca2acb7d",
   "metadata": {},
   "source": [
    "### 3. 값이 모두 0이라면 열 제거\n",
    "트랜스지방의 경우 열 값이 모두 0임 -> 의미 없으므로 빼는 게 맞을 듯"
   ]
  },
  {
   "cell_type": "code",
   "execution_count": 15,
   "id": "9f17ac4e",
   "metadata": {},
   "outputs": [
    {
     "name": "stdout",
     "output_type": "stream",
     "text": [
      "데이터의 고유값 확인\n",
      "음식명          400\n",
      "중량(g)         33\n",
      "에너지(kcal)    400\n",
      "탄수화물(g)      398\n",
      "당류(g)        163\n",
      "지방(g)        400\n",
      "단백질(g)       400\n",
      "칼슘(mg)       399\n",
      "인(mg)        399\n",
      "나트륨(mg)      399\n",
      "칼륨(mg)       399\n",
      "마그네슘(mg)     116\n",
      "철(mg)        397\n",
      "아연(mg)       396\n",
      "콜레스테롤(mg)    289\n",
      "트랜스지방(g)       1\n",
      "dtype: int64\n"
     ]
    }
   ],
   "source": [
    "# 데이터의 고유값 개수 확인\n",
    "print(\"데이터의 고유값 확인\")\n",
    "print(df.nunique())"
   ]
  },
  {
   "cell_type": "code",
   "execution_count": 16,
   "id": "96e383c2",
   "metadata": {},
   "outputs": [
    {
     "name": "stdout",
     "output_type": "stream",
     "text": [
      "삭제 후 열 이름\n",
      "Index(['음식명', '중량(g)', '에너지(kcal)', '탄수화물(g)', '당류(g)', '지방(g)', '단백질(g)',\n",
      "       '칼슘(mg)', '인(mg)', '나트륨(mg)', '칼륨(mg)', '마그네슘(mg)', '철(mg)', '아연(mg)',\n",
      "       '콜레스테롤(mg)'],\n",
      "      dtype='object')\n"
     ]
    }
   ],
   "source": [
    "# 만약 unique 값이 [0]이면 그 column은 삭제\n",
    "for col in df.columns[1:]:\n",
    "    if df[col].unique().tolist() == [0]:\n",
    "        df.drop(columns=[col], inplace=True)\n",
    "\n",
    "print(\"삭제 후 열 이름\")\n",
    "print(df.columns)"
   ]
  },
  {
   "cell_type": "markdown",
   "id": "f10592c1",
   "metadata": {},
   "source": [
    "# 3. 학교 식단 이름으로 매핑"
   ]
  },
  {
   "cell_type": "markdown",
   "id": "70c2e17c",
   "metadata": {},
   "source": [
    "### 1. 임시 데이터 다운로드"
   ]
  },
  {
   "cell_type": "code",
   "execution_count": 17,
   "id": "8b2888ad",
   "metadata": {},
   "outputs": [],
   "source": [
    "# 한글이 깨지지 않게 UTF-8 with BOM 형식 저장\n",
    "df.to_csv('preprocess_food.csv', index=False, encoding='utf-8-sig')"
   ]
  },
  {
   "cell_type": "markdown",
   "id": "bbcde4d5",
   "metadata": {},
   "source": [
    "### 2. 식단 데이터 로드"
   ]
  },
  {
   "cell_type": "code",
   "execution_count": 18,
   "id": "aee132ff",
   "metadata": {},
   "outputs": [],
   "source": [
    "df_school_food = pd.read_csv(\"preprocess_school_food.csv\")"
   ]
  },
  {
   "cell_type": "code",
   "execution_count": 19,
   "id": "d6672b4f",
   "metadata": {},
   "outputs": [
    {
     "name": "stdout",
     "output_type": "stream",
     "text": [
      "        시도명     학교명        급식날짜      메뉴1      메뉴2       메뉴3      메뉴4  \\\n",
      "0  부산광역시교육청  명호고등학교  2022-02-03  돈삼겹숙주덮밥    실파계란국  느타리잔파초무침  당면김말이강정   \n",
      "1  부산광역시교육청  명호고등학교  2022-02-04      찹쌀밥  들깨아욱된장국   냉푸실리파스타  견과류멸치볶음   \n",
      "2  부산광역시교육청  명호고등학교  2022-02-07      찹쌀밥     사골떡국    겨울초겉절이     호박볶음   \n",
      "3  부산광역시교육청  명호고등학교  2022-02-08     돼지국밥    부추겉절이  오이고추된장무침  도토리묵양념장   \n",
      "4  부산광역시교육청  명호고등학교  2022-02-09      자장면  애플모찌탕수육      배추김치      단무지   \n",
      "\n",
      "        메뉴5     메뉴6  메뉴7  ... 탄수화물(g) 단백질(g) 지방(g)  비타민A(R.E)  티아민(mg)  \\\n",
      "0      배추김치     NaN  NaN  ...   109.7   35.7  34.7      125.5      0.6   \n",
      "1  고구마치즈돈까스    배추김치  NaN  ...   130.2   37.1  25.8      192.5      0.5   \n",
      "2    함박스테이크    배추김치  NaN  ...   119.4   36.2  20.7      407.1      0.5   \n",
      "3       석박지     NaN  NaN  ...   110.3   33.5   8.9      158.5      0.6   \n",
      "4      구운계란  제주감귤주스  NaN  ...   110.3   27.2  27.4      227.2      0.4   \n",
      "\n",
      "   리보플라빈(mg)  비타민C(mg)  칼슘(mg)  철분(mg)  에너지(kcal)  \n",
      "0        0.5       9.6   280.2    11.0      892.6  \n",
      "1        0.5      20.2   362.7     3.4      902.1  \n",
      "2        0.5      49.9   384.9     5.0      791.4  \n",
      "3        0.7      34.4    83.4     6.9      641.7  \n",
      "4        1.3      74.3   209.0     9.7      767.5  \n",
      "\n",
      "[5 rows x 23 columns]\n"
     ]
    }
   ],
   "source": [
    "print(df_school_food.head())"
   ]
  },
  {
   "cell_type": "markdown",
   "id": "bbe67b21",
   "metadata": {},
   "source": [
    "# 5. 비교를 위한 형식으로 변환\n",
    "- 원래 음식명과 학교 식단 비교\n",
    "- 학교 식단에 맞추어 원래 음식명 매칭\n",
    "- 원래 음식명은 삭제"
   ]
  },
  {
   "cell_type": "code",
   "execution_count": 20,
   "id": "fbb6f398",
   "metadata": {},
   "outputs": [],
   "source": [
    "df[\"음식명\"].dropna().unique().tolist()\n",
    "df[\"음식명\"].dropna().to_csv(\"food_name_origin.txt\", index=False, header=False)"
   ]
  },
  {
   "cell_type": "code",
   "execution_count": 23,
   "id": "8195b67b",
   "metadata": {},
   "outputs": [],
   "source": [
    "school_menu_columns = [\"메뉴1\", \"메뉴2\", \"메뉴3\", \"메뉴4\", \"메뉴5\", \"메뉴6\", \"메뉴7\", \"메뉴8\", \"메뉴9\", \"메뉴10\"]\n",
    "\n",
    "# 병합 후 고유갑 추출\n",
    "school_menu_list = pd.unique(df_school_food[school_menu_columns].values.ravel())\n",
    "school_menu_list = pd.Series(school_menu_list).dropna().drop_duplicates().reset_index(drop=True)\n",
    "\n",
    "# txt로 저장\n",
    "school_menu_list.to_csv(\"food_name_school.txt\", index=False, header=False)"
   ]
  },
  {
   "cell_type": "markdown",
   "id": "7dbc26ff",
   "metadata": {},
   "source": [
    "# 5-1. 유사도 기반 이름 매핑"
   ]
  },
  {
   "cell_type": "code",
   "execution_count": 34,
   "id": "4236af47",
   "metadata": {},
   "outputs": [],
   "source": [
    "from difflib import get_close_matches, SequenceMatcher"
   ]
  },
  {
   "cell_type": "code",
   "execution_count": 35,
   "id": "8747c4ea",
   "metadata": {},
   "outputs": [],
   "source": [
    "# 데이터 로드\n",
    "\n",
    "with open(\"food_name_origin.txt\", encoding=\"utf-8\") as f:\n",
    "    origin_names = [line.strip() for line in f if line.strip()]\n",
    "\n",
    "with open(\"food_name_school.txt\", encoding=\"utf-8\") as f:\n",
    "    school_names = [line.strip() for line in f if line.strip()]"
   ]
  },
  {
   "cell_type": "code",
   "execution_count": 36,
   "id": "457b6e3c",
   "metadata": {},
   "outputs": [],
   "source": [
    "# 매핑 함수\n",
    "def get_best_match(name, candidates,\n",
    "                   score_cutoff: float = 0.6,\n",
    "                   substr_ratio: float = 0.5\n",
    "                   ):\n",
    "    \"\"\"\n",
    "    name과 candidates를 순회하며\n",
    "    SequenceMatcher.ratio() 점수\n",
    "    find_longest_match().size 길이\n",
    "    기준으로 가장 좋은 후보를 찾고\n",
    "    두 조건(score_cutoff, substr_ratio) 모두 만족하면 반환\n",
    "    \"\"\"\n",
    "    best = None\n",
    "    best_score = 0.0\n",
    "    best_sub_len = 0\n",
    "\n",
    "    for cand in candidates:\n",
    "        sm = SequenceMatcher(None, name, cand)\n",
    "        score = sm.ratio()\n",
    "        match = sm.find_longest_match(0, len(name), 0, len(cand))\n",
    "        sub_len = match.size\n",
    "\n",
    "        if score > best_score:\n",
    "            best, best_score, best_sub_len = cand, score, sub_len\n",
    "\n",
    "    # 두 조건 모두 만족하면 리턴\n",
    "    if best_score >= score_cutoff and best_sub_len >= len(name) * substr_ratio:\n",
    "        return best, round(best_score, 3), best_sub_len\n",
    "    return None, round(best_score, 3), best_sub_len\n"
   ]
  },
  {
   "cell_type": "code",
   "execution_count": 37,
   "id": "adcbe924",
   "metadata": {},
   "outputs": [],
   "source": [
    "# 매핑 결과 저장\n",
    "mapped_results = []\n",
    "for orig in origin_names:\n",
    "    best, score, sub_len = get_best_match(orig, school_names)\n",
    "    mapped_results.append({\n",
    "        \"음식명\": orig,\n",
    "        \"학교식단\": best,\n",
    "        \"유사도\": score,\n",
    "        \"최장공통문자길이\": sub_len,\n",
    "        \"매칭여부\" : \"매칭\" if best else \"미매칭\"\n",
    "    })"
   ]
  },
  {
   "cell_type": "code",
   "execution_count": 38,
   "id": "0575afc4",
   "metadata": {},
   "outputs": [],
   "source": [
    "df_result = pd.DataFrame(mapped_results)"
   ]
  },
  {
   "cell_type": "code",
   "execution_count": 39,
   "id": "8a710ff4",
   "metadata": {},
   "outputs": [],
   "source": [
    "# 매칭결과 따로 저장\n",
    "df_result.to_csv(\"음식명_매핑결과.csv\", index=False, encoding=\"utf-8-sig\")"
   ]
  },
  {
   "cell_type": "markdown",
   "id": "3a1fe979",
   "metadata": {},
   "source": [
    "### Semantic Model (S-BERT) 사용"
   ]
  },
  {
   "cell_type": "code",
   "execution_count": 40,
   "id": "df156fe8",
   "metadata": {},
   "outputs": [],
   "source": [
    "# !pip install sentence-transformers\n",
    "\n",
    "import torch\n",
    "from sentence_transformers import SentenceTransformer, util"
   ]
  },
  {
   "cell_type": "code",
   "execution_count": 41,
   "id": "1b67d0a7",
   "metadata": {},
   "outputs": [
    {
     "name": "stderr",
     "output_type": "stream",
     "text": [
      "c:\\Users\\SSAFY\\AppData\\Local\\Programs\\Python\\Python310\\lib\\site-packages\\huggingface_hub\\file_download.py:144: UserWarning: `huggingface_hub` cache-system uses symlinks by default to efficiently store duplicated files but your machine does not support them in C:\\Users\\SSAFY\\.cache\\huggingface\\hub\\models--snunlp--KR-SBERT-V40K-klueNLI-augSTS. Caching files will still work but in a degraded version that might require more space on your disk. This warning can be disabled by setting the `HF_HUB_DISABLE_SYMLINKS_WARNING` environment variable. For more details, see https://huggingface.co/docs/huggingface_hub/how-to-cache#limitations.\n",
      "To support symlinks on Windows, you either need to activate Developer Mode or to run Python as an administrator. In order to activate developer mode, see this article: https://docs.microsoft.com/en-us/windows/apps/get-started/enable-your-device-for-development\n",
      "  warnings.warn(message)\n"
     ]
    }
   ],
   "source": [
    "model = SentenceTransformer(\"snunlp/KR-SBERT-V40K-klueNLI-augSTS\")"
   ]
  },
  {
   "cell_type": "code",
   "execution_count": 44,
   "id": "d98e8142",
   "metadata": {},
   "outputs": [],
   "source": [
    "# 학교 식단 임베딩\n",
    "school_embeddings = model.encode(school_names, convert_to_tensor=True)"
   ]
  },
  {
   "cell_type": "code",
   "execution_count": 45,
   "id": "3cb7d15e",
   "metadata": {},
   "outputs": [],
   "source": [
    "# semantic 매칭함수\n",
    "def get_semantic_match(name, candidates, candidates_embeds, top_k=1, score_threshold=0.5 ):\n",
    "    \"\"\"\n",
    "    name:      (str) 매칭할 원본 이름\n",
    "    candidates:         학교 식단 리스트\n",
    "    candidates_embeds:  precomputed embeddings for candidates\n",
    "    top_k:              상위 몇 개 후보를 뽑을지\n",
    "    score_threshold:    코사인 유사도 최소 기준 (0~1)\n",
    "    \"\"\"\n",
    "    emb = model.encode(name, convert_to_tensor=True)\n",
    "    # 코사인 유사도 계산\n",
    "    cos_scores = util.cos_sim(emb, candidates_embeds)[0]\n",
    "    # 내림차순 정렬 인덱스\n",
    "    top_results = torch.topk(cos_scores, k=top_k)\n",
    "    matches=[]\n",
    "    for score, idx in zip(top_results.values, top_results.indices):\n",
    "        score = float(score)\n",
    "        idx = int(idx)\n",
    "        if score >= score_threshold:\n",
    "            matches.append((candidates[idx], round(score,3)))\n",
    "    return matches"
   ]
  },
  {
   "cell_type": "code",
   "execution_count": 46,
   "id": "974caf8e",
   "metadata": {},
   "outputs": [],
   "source": [
    "# semantic 매핑 수행\n",
    "semantic_results = []\n",
    "for name in origin_names:\n",
    "    matches = get_semantic_match(name, school_names, school_embeddings,\n",
    "                                 top_k=3, score_threshold=0.6)\n",
    "    # 결과 형식: [(후보1, score1), (후보2, score2), ...]\n",
    "    if matches:\n",
    "        best, best_score = matches[0]\n",
    "        status = \"매칭\"\n",
    "    else:\n",
    "        best, best_score = None, 0.0\n",
    "        status = \"미매칭\"\n",
    "    semantic_results.append({\n",
    "        \"음식명\": name,\n",
    "        \"학교식단\": best,\n",
    "        \"semantic 유사도\": best_score,\n",
    "        \"매칭여부\": status\n",
    "    })"
   ]
  },
  {
   "cell_type": "code",
   "execution_count": 47,
   "id": "bfc7013d",
   "metadata": {},
   "outputs": [],
   "source": [
    "df_sem = pd.DataFrame(semantic_results)\n",
    "df_sem.to_csv(\"음식명_semantic매핑결과.csv\", index=False, encoding=\"utf-8-sig\")"
   ]
  },
  {
   "cell_type": "markdown",
   "id": "d250f5b9",
   "metadata": {},
   "source": [
    "# 3. 추출\n",
    "- SQL, CSV 저장"
   ]
  },
  {
   "cell_type": "markdown",
   "id": "08f7be21",
   "metadata": {},
   "source": [
    "### 1. 영양소 테이블"
   ]
  },
  {
   "cell_type": "code",
   "execution_count": null,
   "id": "a5103654",
   "metadata": {},
   "outputs": [],
   "source": [
    "# SQL 생성"
   ]
  },
  {
   "cell_type": "code",
   "execution_count": null,
   "id": "8baccdf3",
   "metadata": {},
   "outputs": [],
   "source": []
  }
 ],
 "metadata": {
  "kernelspec": {
   "display_name": "Python 3",
   "language": "python",
   "name": "python3"
  },
  "language_info": {
   "codemirror_mode": {
    "name": "ipython",
    "version": 3
   },
   "file_extension": ".py",
   "mimetype": "text/x-python",
   "name": "python",
   "nbconvert_exporter": "python",
   "pygments_lexer": "ipython3",
   "version": "3.10.11"
  }
 },
 "nbformat": 4,
 "nbformat_minor": 5
}
